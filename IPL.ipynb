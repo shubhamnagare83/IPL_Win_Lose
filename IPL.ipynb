{
 "cells": [
  {
   "cell_type": "code",
   "execution_count": 7,
   "id": "e3095db5-01a0-47a3-99d9-92a59b047b05",
   "metadata": {},
   "outputs": [
    {
     "data": {
      "text/html": [
       "\n",
       "        <iframe\n",
       "            width=\"100%\"\n",
       "            height=\"650\"\n",
       "            src=\"http://127.0.0.1:8050/\"\n",
       "            frameborder=\"0\"\n",
       "            allowfullscreen\n",
       "            \n",
       "        ></iframe>\n",
       "        "
      ],
      "text/plain": [
       "<IPython.lib.display.IFrame at 0x142396a8b30>"
      ]
     },
     "metadata": {},
     "output_type": "display_data"
    }
   ],
   "source": [
    "   import dash\n",
    "   from dash import dcc, html\n",
    "   from dash.dependencies import Input, Output\n",
    "   import pandas as pd\n",
    "   import plotly.express as px\n",
    "\n",
    "   # Load the IPL dataset\n",
    "   matches = pd.read_csv(\"matches.csv\")\n",
    "   deliveries = pd.read_csv(\"deliveries.csv\")\n",
    "\n",
    "   # Initialize the Dash app\n",
    "   app = dash.Dash(__name__)\n",
    "\n",
    "   # Layout of the dashboard\n",
    "   app.layout = html.Div([\n",
    "       html.H1(\"IPL Analysis Dashboard\", style={\"textAlign\": \"center\"}),\n",
    "\n",
    "       # Dropdown for Team Selection\n",
    "       html.Div([\n",
    "           html.Label(\"Select Team:\"),\n",
    "           dcc.Dropdown(\n",
    "               id=\"team-dropdown\",\n",
    "               options=[{\"label\": team, \"value\": team} for team in matches[\"team1\"].unique()],\n",
    "               value=matches[\"team1\"].unique()[0],\n",
    "               style={\"width\": \"50%\"}\n",
    "           )\n",
    "       ]),\n",
    "\n",
    "       # Charts and Graphs\n",
    "       dcc.Graph(id=\"win-rate-chart\"),\n",
    "       dcc.Graph(id=\"runs-distribution-chart\")\n",
    "   ])\n",
    "\n",
    "   # Callback for updating charts based on selected team\n",
    "   @app.callback(\n",
    "       [Output(\"win-rate-chart\", \"figure\"),\n",
    "        Output(\"runs-distribution-chart\", \"figure\")],\n",
    "       [Input(\"team-dropdown\", \"value\")]\n",
    "   )\n",
    "   def update_charts(selected_team):\n",
    "       # Filter data by selected team\n",
    "       team_matches = matches[(matches[\"team1\"] == selected_team) | (matches[\"team2\"] == selected_team)]\n",
    "       win_data = team_matches[team_matches[\"winner\"] == selected_team]\n",
    "\n",
    "       # Win Rate Chart\n",
    "       win_rate = len(win_data) / len(team_matches) * 100\n",
    "       win_rate_fig = px.pie(\n",
    "           names=[\"Wins\", \"Losses\"],\n",
    "           values=[len(win_data), len(team_matches) - len(win_data)],\n",
    "           title=f\"Win Rate of {selected_team}\"\n",
    "       )\n",
    "\n",
    "       # Runs Distribution Chart\n",
    "       team_deliveries = deliveries[deliveries[\"batting_team\"] == selected_team]\n",
    "       runs_dist_fig = px.histogram(\n",
    "           team_deliveries,\n",
    "           x=\"batsman_runs\",\n",
    "           title=f\"Runs Distribution for {selected_team}\",\n",
    "           labels={\"batsman_runs\": \"Runs\"},\n",
    "           nbins=10\n",
    "       )\n",
    "\n",
    "       return win_rate_fig, runs_dist_fig\n",
    "\n",
    "   # Run the Dash app\n",
    "   if __name__ == \"__main__\":\n",
    "       app.run(debug=True)\n"
   ]
  },
  {
   "cell_type": "code",
   "execution_count": null,
   "id": "33b92264-3730-4149-a058-e86a4c1cd2ed",
   "metadata": {},
   "outputs": [],
   "source": []
  }
 ],
 "metadata": {
  "kernelspec": {
   "display_name": "Python 3 (ipykernel)",
   "language": "python",
   "name": "python3"
  },
  "language_info": {
   "codemirror_mode": {
    "name": "ipython",
    "version": 3
   },
   "file_extension": ".py",
   "mimetype": "text/x-python",
   "name": "python",
   "nbconvert_exporter": "python",
   "pygments_lexer": "ipython3",
   "version": "3.12.4"
  }
 },
 "nbformat": 4,
 "nbformat_minor": 5
}
